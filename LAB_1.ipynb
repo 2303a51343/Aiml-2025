{
  "nbformat": 4,
  "nbformat_minor": 0,
  "metadata": {
    "colab": {
      "provenance": [],
      "authorship_tag": "ABX9TyOIYXJjZs+yVSS1VWDA+ii6",
      "include_colab_link": true
    },
    "kernelspec": {
      "name": "python3",
      "display_name": "Python 3"
    },
    "language_info": {
      "name": "python"
    }
  },
  "cells": [
    {
      "cell_type": "markdown",
      "metadata": {
        "id": "view-in-github",
        "colab_type": "text"
      },
      "source": [
        "<a href=\"https://colab.research.google.com/github/2303a51343/Aiml-2025/blob/main/LAB_1.ipynb\" target=\"_parent\"><img src=\"https://colab.research.google.com/assets/colab-badge.svg\" alt=\"Open In Colab\"/></a>"
      ]
    },
    {
      "cell_type": "code",
      "execution_count": 1,
      "metadata": {
        "id": "cBmXF7NkiuXL"
      },
      "outputs": [],
      "source": [
        "import numpy as np\n",
        "import matplotlib.pyplot as plt\n",
        "import pandas as pd"
      ]
    },
    {
      "cell_type": "code",
      "source": [
        "## Create a list, array\n",
        "list1 = [1,2,3,4]\n",
        "array1  = np.array(list1)\n",
        "array1\n",
        "array2 = np.array([1,2,3,4])\n",
        "list1, array1, array2"
      ],
      "metadata": {
        "colab": {
          "base_uri": "https://localhost:8080/"
        },
        "id": "Tw_9qa9njJlC",
        "outputId": "2bd40f32-1d29-4a40-97c2-5c9a7429396b"
      },
      "execution_count": 2,
      "outputs": [
        {
          "output_type": "execute_result",
          "data": {
            "text/plain": [
              "([1, 2, 3, 4], array([1, 2, 3, 4]), array([1, 2, 3, 4]))"
            ]
          },
          "metadata": {},
          "execution_count": 2
        }
      ]
    },
    {
      "cell_type": "code",
      "source": [
        "## Identify the type of Data structure\n",
        "type(list1), type(array1), type(array2)"
      ],
      "metadata": {
        "colab": {
          "base_uri": "https://localhost:8080/"
        },
        "id": "ECq1jPuqjPdt",
        "outputId": "6095a44e-9e9d-4f13-959d-d3ef1598ea11"
      },
      "execution_count": 3,
      "outputs": [
        {
          "output_type": "execute_result",
          "data": {
            "text/plain": [
              "(list, numpy.ndarray, numpy.ndarray)"
            ]
          },
          "metadata": {},
          "execution_count": 3
        }
      ]
    },
    {
      "cell_type": "code",
      "source": [
        "## Perform Mathematical operations on arrays, lists\n",
        "print(\"Adding two arrays:\", array1 + array2)\n",
        "print(\"Subtracting two arrays: array1 - array2\")\n",
        "print(\"Multiplying two arrays: array1 * array2\")\n",
        "print(\"Dividing two arrays: array1 / array2)\")\n",
        "print(\"Exponentiating two arrays: array1 ** array2\")\n",
        "print(\"Multiply array to list: array2 * list1\")"
      ],
      "metadata": {
        "colab": {
          "base_uri": "https://localhost:8080/"
        },
        "id": "TGJWhvgFjPng",
        "outputId": "6dfdf2c7-5ffd-4b28-c621-64daf78986e4"
      },
      "execution_count": 4,
      "outputs": [
        {
          "output_type": "stream",
          "name": "stdout",
          "text": [
            "Adding two arrays: [2 4 6 8]\n",
            "Subtracting two arrays: array1 - array2\n",
            "Multiplying two arrays: array1 * array2\n",
            "Dividing two arrays: array1 / array2)\n",
            "Exponentiating two arrays: array1 ** array2\n",
            "Multiply array to list: array2 * list1\n"
          ]
        }
      ]
    },
    {
      "cell_type": "code",
      "source": [
        "# Combine text with Numpy function\n",
        "print(f\"Adding{array1} with {array2}\")\n",
        "print(f\"Result: {np.add(array1, array2)}\")"
      ],
      "metadata": {
        "colab": {
          "base_uri": "https://localhost:8080/"
        },
        "id": "Xqxgwe2GjWSD",
        "outputId": "7fedf8c0-0e0a-4ea6-f595-0b043b706282"
      },
      "execution_count": 5,
      "outputs": [
        {
          "output_type": "stream",
          "name": "stdout",
          "text": [
            "Adding[1 2 3 4] with [1 2 3 4]\n",
            "Result: [2 4 6 8]\n"
          ]
        }
      ]
    },
    {
      "cell_type": "code",
      "source": [
        "# Find the Sin, Log, Log2, Exp values\n",
        "print(f\"Sine value of array1:{np.sin(array1)}\")\n",
        "print(f\"Log value of array1:{np.log(array1)}\")\n",
        "print(f\"Log base 2 value of array1:{np.log2(array1)}\")\n",
        "print(f\"Log base 10 value of array1:{np.log10(array1)}\")\n",
        "print(f\"Exponential value of array1:{np.exp(array1)}\")"
      ],
      "metadata": {
        "colab": {
          "base_uri": "https://localhost:8080/"
        },
        "id": "JO7YgmB1jWVc",
        "outputId": "5b05c55a-5348-4fd9-8a85-8edd5cbf0b14"
      },
      "execution_count": 6,
      "outputs": [
        {
          "output_type": "stream",
          "name": "stdout",
          "text": [
            "Sine value of array1:[ 0.84147098  0.90929743  0.14112001 -0.7568025 ]\n",
            "Log value of array1:[0.         0.69314718 1.09861229 1.38629436]\n",
            "Log base 2 value of array1:[0.        1.        1.5849625 2.       ]\n",
            "Log base 10 value of array1:[0.         0.30103    0.47712125 0.60205999]\n",
            "Exponential value of array1:[ 2.71828183  7.3890561  20.08553692 54.59815003]\n"
          ]
        }
      ]
    },
    {
      "cell_type": "code",
      "source": [
        "#Create the data\n",
        "people=[\"Madhuri\",\"Varsha\",\"karuna\",\"nithya\",\"vyshnavi\"]\n",
        "age=[20,18,17,19,16]\n",
        "height=[145,156,152,153,151]\n",
        "weight=[42,47,62,58,40]"
      ],
      "metadata": {
        "id": "Nr70hnYWjjqN"
      },
      "execution_count": 8,
      "outputs": []
    },
    {
      "cell_type": "code",
      "source": [
        "#Generate scatter plot\n",
        "#Find the relationship between age and height\n",
        "plt.scatter(age,height)\n",
        "plt.xlabel(\"age\")\n",
        "plt.ylabel('height')\n",
        "plt.title(\"Age vs Height\")\n",
        "plt.show()"
      ],
      "metadata": {
        "colab": {
          "base_uri": "https://localhost:8080/",
          "height": 472
        },
        "id": "d0Wm5w1gjn47",
        "outputId": "499f2183-2f56-4bd5-e72b-ea7917336024"
      },
      "execution_count": 9,
      "outputs": [
        {
          "output_type": "display_data",
          "data": {
            "text/plain": [
              "<Figure size 640x480 with 1 Axes>"
            ],
            "image/png": "[encoded data removed]"
          },
          "metadata": {}
        }
      ]
    },
    {
      "cell_type": "code",
      "source": [
        "#Generate Bar Chart\n",
        "#Bar chart for height\n",
        "plt.figure(figsize=(5,4))\n",
        "plt.bar(age,height)\n",
        "plt.xlabel(\"People\")\n",
        "plt.ylabel('height')\n",
        "plt.title(\"Height of the people\")\n",
        "plt.show()\n",
        "save=plt.savefig('bar_chart.png')"
      ],
      "metadata": {
        "id": "7hBigOxajpIh"
      },
      "execution_count": null,
      "outputs": []
    },
    {
      "cell_type": "code",
      "source": [
        "import numpy as np\n",
        "plt.figure(figsize=(7,5))\n",
        "\n",
        "# Main plot function 'hist'\n",
        "plt.hist(weight,color='red',edgecolor='k', alpha=0.75,bins=5)\n",
        "\n",
        "plt.title(\"Histogram of patient weight\",fontsize=18)\n",
        "plt.xlabel(\"Weight in kgs\",fontsize=15)\n",
        "#plt.xticks(fontsize=15)\n",
        "#plt.yticks(fontsize=15)\n",
        "plt.show()"
      ],
      "metadata": {
        "id": "eiKefYNZjtCO"
      },
      "execution_count": null,
      "outputs": []
    },
    {
      "cell_type": "code",
      "source": [
        "import numpy as np\n",
        "import pandas as pd"
      ],
      "metadata": {
        "id": "OQPcohmkjv-N"
      },
      "execution_count": null,
      "outputs": []
    },
    {
      "cell_type": "code",
      "source": [
        "df1 = pd.read_table(\"Lab01-Text.txt\")"
      ],
      "metadata": {
        "id": "owjfgLysj0x9"
      },
      "execution_count": null,
      "outputs": []
    },
    {
      "cell_type": "code",
      "source": [
        "df1"
      ],
      "metadata": {
        "id": "IiTutnaHj3U0"
      },
      "execution_count": null,
      "outputs": []
    },
    {
      "cell_type": "code",
      "source": [
        "data2 = pd.read_csv(\"Lab01-Text.csv\")"
      ],
      "metadata": {
        "id": "EPJsJMLyj6PN"
      },
      "execution_count": null,
      "outputs": []
    },
    {
      "cell_type": "code",
      "source": [
        "data2"
      ],
      "metadata": {
        "id": "VI5ujynoj9RT"
      },
      "execution_count": null,
      "outputs": []
    },
    {
      "cell_type": "code",
      "source": [
        "data3 = pd.read_excel(\"Height_weight.xlsx\")"
      ],
      "metadata": {
        "id": "1kp2O3oZkAY-"
      },
      "execution_count": null,
      "outputs": []
    },
    {
      "cell_type": "code",
      "source": [
        "data3"
      ],
      "metadata": {
        "id": "K8_G7KV9kCax"
      },
      "execution_count": null,
      "outputs": []
    }
  ]
}