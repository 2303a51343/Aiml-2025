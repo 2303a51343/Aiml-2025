{
  "nbformat": 4,
  "nbformat_minor": 0,
  "metadata": {
    "colab": {
      "provenance": [],
      "authorship_tag": "ABX9TyNOR10eTnMZaGs00oUCFRIW",
      "include_colab_link": true
    },
    "kernelspec": {
      "name": "python3",
      "display_name": "Python 3"
    },
    "language_info": {
      "name": "python"
    }
  },
  "cells": [
    {
      "cell_type": "markdown",
      "metadata": {
        "id": "view-in-github",
        "colab_type": "text"
      },
      "source": [
        "<a href=\"https://colab.research.google.com/github/2303a51343/Aiml-2025/blob/main/lab_3.ipynb\" target=\"_parent\"><img src=\"https://colab.research.google.com/assets/colab-badge.svg\" alt=\"Open In Colab\"/></a>"
      ]
    },
    {
      "cell_type": "code",
      "execution_count": null,
      "metadata": {
        "id": "ynAgTArXNyg7"
      },
      "outputs": [],
      "source": [
        " from collections import namedtuple,Counter,defaultdict\n",
        " import random\n",
        " import math\n",
        " import functools\n",
        " cache= functools.lru_cache(10**6)"
      ]
    },
    {
      "cell_type": "code",
      "source": [
        "class Game:\n",
        "  def actions (self , state ):\n",
        "##Return a collection of the allowable moves from this state .\n",
        "    raise NotImplementedError\n",
        "def result (self , state , move ):\n",
        "##Return the state that results from making a move from a state .\n",
        "    raise NotImplementedError\n",
        "def is_terminal (self , state ):\n",
        "  ##Return True if this is a final state for the game.\n",
        "   return not self. actions (state)\n",
        "def utility (self , state , player ):\n",
        "  ##Return the value of this final state to player.\n",
        "   raise NotImplementedError"
      ],
      "metadata": {
        "id": "9gwoiTTyTuiF"
      },
      "execution_count": null,
      "outputs": []
    },
    {
      "cell_type": "code",
      "source": [
        "def play_game (game , strategies : dict , verbose =False ):\n",
        "##Play a turn−taking game. ‘strategies ‘ is a {player name: function} dict ,\n",
        "##where function(state , game) is used to get the player ’s move.\n",
        "  state = game. initial\n",
        "  while not game. is_terminal (state ):\n",
        "       player = state. to_move\n",
        "       move = strategies [ player ](game , state)\n",
        "       state = game. result (state , move)\n",
        "       if verbose :\n",
        "           print('Player ', player , 'move:', move)\n",
        "           print(state)\n",
        "  return state\n"
      ],
      "metadata": {
        "id": "p2VbLrw9VpyR"
      },
      "execution_count": null,
      "outputs": []
    },
    {
      "cell_type": "code",
      "source": [
        "def minimax_search (game , state ):\n",
        "  ##Search game tree to determine best move; return (value, move) pair.\n",
        "  player = state. to_move\n",
        "  def max_value (state ):\n",
        "      if game. is_terminal (state ):\n",
        "          return game. utility (state , player ), None\n",
        "      v, move = -infinity , None\n",
        "      for a in game. actions (state ):\n",
        "          v2 , = min_value (game. result (state , a))\n",
        "          if v2 > v:\n",
        "            v, move = v2 , a\n",
        "      return v, move\n",
        "def min_value (state ):\n",
        "    if game. is_terminal (state ):\n",
        "        return game. utility (state , player ), None\n",
        "    v, move = +infinity , None\n",
        "    for a in game. actions (State) :\n",
        "        v2 ,= max_value (game. result(state , a))\n",
        "        if v2 <v:\n",
        "          v, move = v2 , a\n",
        "          return v, move\n",
        "          return max_value (state)\n",
        "          infinity = math.inf\n",
        "\n"
      ],
      "metadata": {
        "id": "G1CAyI4AZkyU"
      },
      "execution_count": 3,
      "outputs": []
    },
    {
      "cell_type": "code",
      "source": [
        "def alphabeta_search(game, state):\n",
        "    player = state.to_move\n",
        "\n",
        "    def max_value(state, alpha, beta):\n",
        "        if game.is_terminal(state):\n",
        "            return game.utility(state, player), None\n",
        "\n",
        "        v, best_move = -math.inf, None\n",
        "        for a in game.actions(state):\n",
        "            v2, _ = min_value(game.result(state, a), alpha, beta)\n",
        "            if v2 > v:\n",
        "                v, best_move = v2, a\n",
        "            alpha = max(alpha, v)\n",
        "            if v >= beta:\n",
        "                return v, best_move\n",
        "        return v, best_move\n",
        "\n",
        "    def min_value(state, alpha, beta):\n",
        "        if game.is_terminal(state):\n",
        "            return game.utility(state, player), None\n",
        "\n",
        "        v, best_move = math.inf, None\n",
        "        for a in game.actions(state):\n",
        "            v2, _ = max_value(game.result(state, a), alpha, beta)\n",
        "            if v2 < v:\n",
        "                v, best_move = v2, a\n",
        "            beta = min(beta, v)\n",
        "            if v <= alpha:\n",
        "                return v, best_move\n",
        "        return v, best_move\n",
        "\n",
        "    return max_value(state, -math.inf, math.inf)"
      ],
      "metadata": {
        "id": "0p9MhyjBhCNl"
      },
      "execution_count": 4,
      "outputs": []
    },
    {
      "cell_type": "code",
      "source": [
        "def init(self, height=3, width=3, k=3):\n",
        "        self.k = k  # k in a row\n",
        "        self.squares = {(x, y) for x in range(width) for y in range(height)}\n",
        "        self.initial = Board(height=height, width=width, to_move='X', utility=0)\n",
        "\n",
        "def actions(self,board):\n",
        "        \"\"\"Legal moves are any square not yet taken.\"\"\"\n",
        "        return self.squares_set(board)\n",
        "\n",
        "def result(self, board, square):\n",
        "        \"\"\"Place a marker for the current player on the square.\"\"\"\n",
        "        player = board.to_move\n",
        "        board = board.new({square: player}, to_move=('O' if player == 'X' else 'X'))\n",
        "        win = k_in_row(board, player, square, self.k)\n",
        "        board.utility = 0 if not win else 1 if player == 'X' else -1\n",
        "        return board\n",
        "\n",
        "def utility(self, board, player):\n",
        "        \"\"\"Return the value to the player; 1 for win, -1 for loss, 0 otherwise.\"\"\"\n",
        "        return board.utility if player == 'X' else -board.utility\n",
        "\n",
        "def is_terminal(self, board):\n",
        "        \"\"\"A board is a terminal state if it is won or there are no empty squares.\"\"\"\n",
        "        return board.utility != 0 or len(self.squares) == len(board)\n",
        "\n",
        "def display(self, board):\n",
        "        print(board)\n",
        "\n",
        "def k_in_row(board, player, square, k):\n",
        "    \"\"\"True if the player has k pieces in a line through the square.\"\"\"\n",
        "    def in_row(x, y, dx, dy):\n",
        "        return 0 if board[x, y] != player else 1 + in_row(x + dx, y + dy, dx, dy)\n",
        "        return any(in_row(*square, dx, dy) + in_row(*square, -dx, -dy) - 1 >= k\n",
        "                   for (dx, dy) in ((0, 1), (1, 0), (1, 1), (1, -1)))"
      ],
      "metadata": {
        "id": "V0PkfJnjhCBW"
      },
      "execution_count": 5,
      "outputs": []
    },
    {
      "cell_type": "code",
      "source": [
        "from collections import defaultdict\n",
        "\n",
        "class Board(defaultdict):\n",
        "    \"\"\"A board has the player to move, a cached utility value, and a dict of {(x, y): player} entries, where player is 'X' or 'O'.\"\"\"\n",
        "    empty = '.'\n",
        "    off = '#'\n",
        "\n",
        "    def _init_(self, width=8, height=8, to_move=None, **kwds):\n",
        "        self.dict.update(width=width, height=height, to_move=to_move, **kwds)\n",
        "\n",
        "    def new(self, changes: dict, **kwds) -> 'Board':\n",
        "        \"\"\"Given a dict of {(x, y): contents} changes, return a new Board with the changes.\"\"\"\n",
        "        board = Board(width=self.width, height=self.height, **kwds)\n",
        "        board.update(self)\n",
        "        board.update(changes)\n",
        "        return board\n",
        "\n",
        "    def missing(self, loc):\n",
        "        x, y = loc\n",
        "        if 0 <= x < self.width and 0 <= y < self.height:\n",
        "            return self.empty\n",
        "        else:\n",
        "            return self.off\n",
        "\n",
        "    def hash(self):\n",
        "            return hash(tuple(sorted(self.items())) + hash(self.to_move))\n",
        "\n",
        "    def _repr_(self):\n",
        "        def row(y):\n",
        "            return ' '.join(self[x, y] for x in range(self.width))\n",
        "        return '\\n'.join(map(row, range(self.height))) + '\\n'"
      ],
      "metadata": {
        "id": "6IBPaYrJhBuF"
      },
      "execution_count": 6,
      "outputs": []
    },
    {
      "cell_type": "code",
      "source": [
        "def random_player(game, state): return random.choice(list(game.actions(state)))\n",
        "def player(search_algorithm):\n",
        "  return lambda game, state: search_algorithm(game, state)[1]"
      ],
      "metadata": {
        "id": "EmWXNJQlibn3"
      },
      "execution_count": 7,
      "outputs": []
    }
  ]
}