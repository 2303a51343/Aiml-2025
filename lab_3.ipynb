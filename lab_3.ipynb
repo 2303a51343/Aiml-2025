{
  "nbformat": 4,
  "nbformat_minor": 0,
  "metadata": {
    "colab": {
      "provenance": [],
      "authorship_tag": "ABX9TyMW5N/ENOONoZlVy9y058Ge",
      "include_colab_link": true
    },
    "kernelspec": {
      "name": "python3",
      "display_name": "Python 3"
    },
    "language_info": {
      "name": "python"
    }
  },
  "cells": [
    {
      "cell_type": "markdown",
      "metadata": {
        "id": "view-in-github",
        "colab_type": "text"
      },
      "source": [
        "<a href=\"https://colab.research.google.com/github/2303a51343/Aiml-2025/blob/main/lab_3.ipynb\" target=\"_parent\"><img src=\"https://colab.research.google.com/assets/colab-badge.svg\" alt=\"Open In Colab\"/></a>"
      ]
    },
    {
      "cell_type": "code",
      "execution_count": null,
      "metadata": {
        "id": "ynAgTArXNyg7"
      },
      "outputs": [],
      "source": [
        " from collections import namedtuple,Counter,defaultdict\n",
        " import random\n",
        " import math\n",
        " import functools\n",
        " cache= functools.lru_cache(10**6)"
      ]
    },
    {
      "cell_type": "code",
      "source": [
        "class Game:\n",
        "  def actions (self , state ):\n",
        "##Return a collection of the allowable moves from this state .\n",
        "    raise NotImplementedError\n",
        "def result (self , state , move ):\n",
        "##Return the state that results from making a move from a state .\n",
        "    raise NotImplementedError\n",
        "def is_terminal (self , state ):\n",
        "  ##Return True if this is a final state for the game.\n",
        "   return not self. actions (state)\n",
        "def utility (self , state , player ):\n",
        "  ##Return the value of this final state to player.\n",
        "   raise NotImplementedError"
      ],
      "metadata": {
        "id": "9gwoiTTyTuiF"
      },
      "execution_count": null,
      "outputs": []
    },
    {
      "cell_type": "code",
      "source": [
        "def play_game (game , strategies : dict , verbose =False ):\n",
        "##Play a turn−taking game. ‘strategies ‘ is a {player name: function} dict ,\n",
        "##where function(state , game) is used to get the player ’s move.\n",
        "  state = game. initial\n",
        "  while not game. is_terminal (state ):\n",
        "       player = state. to_move\n",
        "       move = strategies [ player ](game , state)\n",
        "       state = game. result (state , move)\n",
        "       if verbose :\n",
        "           print('Player ', player , 'move:', move)\n",
        "           print(state)\n",
        "  return state\n"
      ],
      "metadata": {
        "id": "p2VbLrw9VpyR"
      },
      "execution_count": null,
      "outputs": []
    },
    {
      "cell_type": "code",
      "source": [
        "def minimax_search (game , state ):\n",
        "  ##Search game tree to determine best move; return (value, move) pair.\n",
        "  player = state. to_move\n",
        "  def max_value (state ):\n",
        "      if game. is_terminal (state ):\n",
        "          return game. utility (state , player ), None\n",
        "      v, move = -infinity , None\n",
        "      for a in game. actions (state ):\n",
        "          v2 , = min_value (game. result (state , a))\n",
        "          if v2 > v:\n",
        "            v, move = v2 , a\n",
        "      return v, move\n",
        "def min_value (state ):\n",
        "    if game. is_terminal (state ):\n",
        "        return game. utility (state , player ), None\n",
        "    v, move = +infinity , None\n",
        "    for a in game. actions (State) :\n",
        "        v2 ,= max_value (game. result(state , a))\n",
        "        if v2 <v:\n",
        "          v, move = v2 , a\n",
        "          return v, move\n",
        "          return max_value (state)\n",
        "          infinity = math.inf\n",
        "\n"
      ],
      "metadata": {
        "id": "G1CAyI4AZkyU"
      },
      "execution_count": null,
      "outputs": []
    },
    {
      "cell_type": "code",
      "source": [
        "def alphabeta_search (game , state ):\n",
        "  ##Search game to determine best action; use alpha−beta pruning.\n",
        "  ##Search all the way to the leaves .\n",
        "   player = state. to_move\n",
        "   def max_value (state , alpha , beta ):\n",
        "       if game. is_terminal (state ):\n",
        "          return game. utility (state , player ), None\n",
        "       v, best_move = -math.inf, None\n",
        "      for a in game. actions (state ):\n",
        "          v2 , = min_value (game. result (state , a), alpha , beta)\n",
        "          if v2 > v:\n",
        "              v, best_move = v2 , a\n",
        "           alpha = max(alpha , v)\n",
        "           if v >= beta:\n",
        "                   return v,best_move\n",
        "              return v, best_move\n",
        "        def min_value (state , alpha , beta ):\n",
        "              if game. is_terminal (state ):\n",
        "                 return game. utility (state , player ), None\n",
        "          v, best_move = math.inf, None\n",
        "          for a in game. actions (state ):\n",
        "             v2 , = max value (game. result (state , a), alpha , beta)\n",
        "               if v2 < v:\n",
        "                   v, best_move = v2 , a\n",
        "           beta = min(beta , v)\n",
        "            if v <= alpha:\n",
        "                return v, best_move\n",
        "          return v, best_move\n",
        "   return max value (state , -math.inf.math.inf )\n",
        "\n"
      ],
      "metadata": {
        "id": "Pi2pVqOuflH2",
        "colab": {
          "base_uri": "https://localhost:8080/",
          "height": 106
        },
        "outputId": "aab1456c-ea93-4b6d-a90f-5da30b0cf6af"
      },
      "execution_count": null,
      "outputs": [
        {
          "output_type": "error",
          "ename": "IndentationError",
          "evalue": "unindent does not match any outer indentation level (<tokenize>, line 9)",
          "traceback": [
            "\u001b[0;36m  File \u001b[0;32m\"<tokenize>\"\u001b[0;36m, line \u001b[0;32m9\u001b[0m\n\u001b[0;31m    for a in game. actions (state ):\u001b[0m\n\u001b[0m    ^\u001b[0m\n\u001b[0;31mIndentationError\u001b[0m\u001b[0;31m:\u001b[0m unindent does not match any outer indentation level\n"
          ]
        }
      ]
    }
  ]
}